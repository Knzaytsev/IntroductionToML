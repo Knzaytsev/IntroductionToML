{
 "cells": [
  {
   "cell_type": "markdown",
   "metadata": {},
   "source": [
    "# Лабораторная 2"
   ]
  },
  {
   "cell_type": "code",
   "execution_count": 1,
   "metadata": {},
   "outputs": [],
   "source": [
    "from abc import ABCMeta, abstractmethod\n",
    "import pandas as pd\n",
    "import numpy as np\n",
    "from sklearn.model_selection import train_test_split"
   ]
  },
  {
   "cell_type": "code",
   "execution_count": 2,
   "metadata": {},
   "outputs": [],
   "source": [
    "df = pd.read_csv(\"data\\creditcard.csv\")"
   ]
  },
  {
   "cell_type": "code",
   "execution_count": 3,
   "metadata": {},
   "outputs": [
    {
     "data": {
      "text/plain": [
       "0    284315\n",
       "1       492\n",
       "Name: Class, dtype: int64"
      ]
     },
     "execution_count": 3,
     "metadata": {},
     "output_type": "execute_result"
    }
   ],
   "source": [
    "df.Class.value_counts()"
   ]
  },
  {
   "cell_type": "code",
   "execution_count": 4,
   "metadata": {},
   "outputs": [],
   "source": [
    "class Classificator():\n",
    "    __metaclass__ = ABCMeta\n",
    "    \n",
    "    @abstractmethod\n",
    "    def train(X, Y):\n",
    "        '''Обучить модель'''\n",
    "    \n",
    "    @abstractmethod\n",
    "    def predict(self, X):\n",
    "        '''Предсказать данные'''"
   ]
  },
  {
   "cell_type": "code",
   "execution_count": 16,
   "metadata": {},
   "outputs": [],
   "source": [
    "class DecisionTree(Classificator):\n",
    "    model = None\n",
    "    node = {}\n",
    "    \n",
    "    def train(self, X, Y, tabs=\"\", depth = 0, prediction=None, max_depth=None, leafValue=None):\n",
    "        entropy = self.calculate_entropy(Y)\n",
    "        #print(entropy)\n",
    "        #print(Y.nunique())\n",
    "        #print(X.columns)\n",
    "        \n",
    "        if entropy == 0 or depth == max_depth or len(X) == leafValue:\n",
    "            p = len(Y.loc[Y == 1]) / len(Y)\n",
    "            #self.node[prediction.attribute] = [prediction.predicate, p]\n",
    "            self.node['label'] = p\n",
    "            return self.node\n",
    "        igs = []\n",
    "        for index, row in X[:1].iterrows():\n",
    "            inner_igs = []\n",
    "            for column in X:\n",
    "                predicate = row[column]\n",
    "                left = X[column].loc[X[column] <= predicate]\n",
    "                right = X[column].loc[X[column] > predicate]\n",
    "                Y_left = Y.loc[left.index]\n",
    "                Y_right = Y.loc[right.index]\n",
    "                groups = [[len(left), self.calculate_entropy(Y_left)], [len(right), self.calculate_entropy(Y_right)]]\n",
    "                ig = self.information_gain(df.Class, entropy, groups)\n",
    "                inner_igs.append(Predicate(column, ig, predicate))\n",
    "            igs.append(self.get_max_ig(inner_igs))\n",
    "\n",
    "        predicate = self.get_max_ig(igs)\n",
    "        \n",
    "        X_left = X.loc[X[predicate.attribute] <= predicate.predicate].drop(predicate.attribute, axis=1)\n",
    "        X_right = X.loc[X[predicate.attribute] > predicate.predicate].drop(predicate.attribute, axis=1)\n",
    "        Y_left = Y.loc[X_left.index]\n",
    "        Y_right = Y.loc[X_right.index]\n",
    "        depth += 1\n",
    "        #print(tabs + \"left\")\n",
    "        #left_node = DecisionTree().train(X_left, Y_left, prediction=prediction depth=depth, max_depth=max_depth)\n",
    "        #print(tabs + \"right\")\n",
    "        #right_node = DecisionTree().train(X_right, Y_right, prediction=prediction depth=depth, max_depth=max_depth)\n",
    "        #left = DecisionTree().train(X_left, Y_left, prediction=predicate, depth=depth, max_depth=max_depth)\n",
    "        #rigth = DecisionTree().train(X_right, Y_right, prediction=predicate, depth=depth, max_depth=max_depth)\n",
    "        self.node['attribute'] = predicate.attribute\n",
    "        self.node['value'] = predicate.predicate\n",
    "        self.node['nodes'] = {}\n",
    "        self.node['nodes']['<='] = DecisionTree().train(X_left, Y_left, prediction=predicate, depth=depth, max_depth=max_depth)\n",
    "        self.node['nodes']['>'] = DecisionTree().train(X_right, Y_right, prediction=predicate, depth=depth, max_depth=max_depth)\n",
    "        #self.node[predicate.attribute] = predicate.predicate\n",
    "        return self.node\n",
    "    \n",
    "    def predict(self, X):\n",
    "        pass\n",
    "    \n",
    "    def calculate_entropy(self, Y):\n",
    "        count = len(Y)\n",
    "        entropy = 0\n",
    "        for count_class in Y.value_counts():\n",
    "            p = count_class / count\n",
    "            entropy -= p * np.log2(p)\n",
    "        return entropy\n",
    "    \n",
    "    \n",
    "    def information_gain(self, Y, entropy0, groups):\n",
    "        N = len(Y)\n",
    "        sum_entropies = 0\n",
    "        for group in groups:\n",
    "            group\n",
    "            Ni = group[0]\n",
    "            Si = group[1]\n",
    "            sum_entropies += Ni / N * Si\n",
    "        return entropy0 - sum_entropies\n",
    "    \n",
    "    def get_max_ig(self, igs):\n",
    "        information_gain = igs[0]\n",
    "        for ig in igs:\n",
    "            if ig.ig > information_gain.ig:\n",
    "                information_gain = ig\n",
    "        return information_gain"
   ]
  },
  {
   "cell_type": "code",
   "execution_count": 7,
   "metadata": {},
   "outputs": [],
   "source": [
    "class RandomForest(Classificator):\n",
    "    model = None\n",
    "    \n",
    "    def __init__():\n",
    "        pass\n",
    "    \n",
    "    def train(X, Y):\n",
    "        pass\n",
    "    \n",
    "    def predict(self, X):\n",
    "        pass"
   ]
  },
  {
   "cell_type": "code",
   "execution_count": 8,
   "metadata": {},
   "outputs": [],
   "source": [
    "class GradientBoosting(Classificator):\n",
    "    model = None\n",
    "    \n",
    "    def __init__():\n",
    "        pass\n",
    "    \n",
    "    def train(X, Y):\n",
    "        pass\n",
    "    \n",
    "    def predict(self, X):\n",
    "        pass"
   ]
  },
  {
   "cell_type": "code",
   "execution_count": 20,
   "metadata": {},
   "outputs": [
    {
     "name": "stdout",
     "output_type": "stream",
     "text": [
      "V12\n"
     ]
    },
    {
     "ename": "TypeError",
     "evalue": "can only concatenate str (not \"numpy.float64\") to str",
     "output_type": "error",
     "traceback": [
      "\u001b[1;31m---------------------------------------------------------------------------\u001b[0m",
      "\u001b[1;31mTypeError\u001b[0m                                 Traceback (most recent call last)",
      "\u001b[1;32m<ipython-input-20-d9859a73f35f>\u001b[0m in \u001b[0;36m<module>\u001b[1;34m\u001b[0m\n\u001b[0;32m      6\u001b[0m \u001b[0mtree\u001b[0m \u001b[1;33m=\u001b[0m \u001b[0mDecisionTree\u001b[0m\u001b[1;33m(\u001b[0m\u001b[1;33m)\u001b[0m\u001b[1;33m\u001b[0m\u001b[1;33m\u001b[0m\u001b[0m\n\u001b[0;32m      7\u001b[0m \u001b[0mtree\u001b[0m\u001b[1;33m.\u001b[0m\u001b[0mtrain\u001b[0m\u001b[1;33m(\u001b[0m\u001b[0mX_train\u001b[0m\u001b[1;33m,\u001b[0m \u001b[0mY_train\u001b[0m\u001b[1;33m)\u001b[0m\u001b[1;33m\u001b[0m\u001b[1;33m\u001b[0m\u001b[0m\n\u001b[1;32m----> 8\u001b[1;33m \u001b[0mread_tree\u001b[0m\u001b[1;33m(\u001b[0m\u001b[0mtree\u001b[0m\u001b[1;33m.\u001b[0m\u001b[0mnode\u001b[0m\u001b[1;33m)\u001b[0m\u001b[1;33m\u001b[0m\u001b[1;33m\u001b[0m\u001b[0m\n\u001b[0m\u001b[0;32m      9\u001b[0m \u001b[1;31m#print(pred.attribute, pred.ig)\u001b[0m\u001b[1;33m\u001b[0m\u001b[1;33m\u001b[0m\u001b[1;33m\u001b[0m\u001b[0m\n",
      "\u001b[1;32m<ipython-input-18-b7d9c0d98db1>\u001b[0m in \u001b[0;36mread_tree\u001b[1;34m(tree, tabs)\u001b[0m\n\u001b[0;32m      1\u001b[0m \u001b[1;32mdef\u001b[0m \u001b[0mread_tree\u001b[0m\u001b[1;33m(\u001b[0m\u001b[0mtree\u001b[0m\u001b[1;33m,\u001b[0m \u001b[0mtabs\u001b[0m\u001b[1;33m=\u001b[0m\u001b[1;34m''\u001b[0m\u001b[1;33m)\u001b[0m\u001b[1;33m:\u001b[0m\u001b[1;33m\u001b[0m\u001b[1;33m\u001b[0m\u001b[0m\n\u001b[0;32m      2\u001b[0m     \u001b[0mprint\u001b[0m\u001b[1;33m(\u001b[0m\u001b[0mtabs\u001b[0m\u001b[1;33m+\u001b[0m\u001b[0mtree\u001b[0m\u001b[1;33m[\u001b[0m\u001b[1;34m'attribute'\u001b[0m\u001b[1;33m]\u001b[0m\u001b[1;33m)\u001b[0m\u001b[1;33m\u001b[0m\u001b[1;33m\u001b[0m\u001b[0m\n\u001b[1;32m----> 3\u001b[1;33m     \u001b[0mprint\u001b[0m\u001b[1;33m(\u001b[0m\u001b[0mtabs\u001b[0m\u001b[1;33m+\u001b[0m\u001b[0mtree\u001b[0m\u001b[1;33m[\u001b[0m\u001b[1;34m'value'\u001b[0m\u001b[1;33m]\u001b[0m\u001b[1;33m)\u001b[0m\u001b[1;33m\u001b[0m\u001b[1;33m\u001b[0m\u001b[0m\n\u001b[0m\u001b[0;32m      4\u001b[0m     \u001b[0mprint\u001b[0m\u001b[1;33m(\u001b[0m\u001b[0mtabs\u001b[0m\u001b[1;33m+\u001b[0m\u001b[0mtree\u001b[0m\u001b[1;33m[\u001b[0m\u001b[1;34m'label'\u001b[0m\u001b[1;33m]\u001b[0m\u001b[1;33m)\u001b[0m\u001b[1;33m\u001b[0m\u001b[1;33m\u001b[0m\u001b[0m\n\u001b[0;32m      5\u001b[0m     \u001b[0mread_tree\u001b[0m\u001b[1;33m(\u001b[0m\u001b[0mtree\u001b[0m\u001b[1;33m[\u001b[0m\u001b[1;34m'nodes'\u001b[0m\u001b[1;33m]\u001b[0m\u001b[1;33m[\u001b[0m\u001b[1;34m'<='\u001b[0m\u001b[1;33m]\u001b[0m\u001b[1;33m,\u001b[0m \u001b[0mtabs\u001b[0m\u001b[1;33m+\u001b[0m\u001b[1;34m'\\t'\u001b[0m\u001b[1;33m)\u001b[0m\u001b[1;33m\u001b[0m\u001b[1;33m\u001b[0m\u001b[0m\n",
      "\u001b[1;31mTypeError\u001b[0m: can only concatenate str (not \"numpy.float64\") to str"
     ]
    }
   ],
   "source": [
    "X = df[df.columns[:-1]]\n",
    "y = df.Class\n",
    "\n",
    "X_train, X_test, Y_train, Y_test = train_test_split(X, y, test_size=0.2, random_state=42)\n",
    "\n",
    "tree = DecisionTree()\n",
    "tree.train(X_train, Y_train)\n",
    "read_tree(tree.node)\n",
    "#print(pred.attribute, pred.ig)"
   ]
  },
  {
   "cell_type": "code",
   "execution_count": 23,
   "metadata": {},
   "outputs": [],
   "source": [
    "def read_tree(tree, tabs=''):\n",
    "    print(tabs+tree['attribute'])\n",
    "    print(tabs+str(tree['value']))\n",
    "    print(tabs+str(tree['label']))\n",
    "    print(tree['nodes']['<='])\n",
    "    print(tree['nodes']['>'])\n",
    "    #read_tree(tree['nodes']['<='], tabs+'\\t')\n",
    "    #read_tree(tree['nodes']['>'], tabs+'\\t')\n",
    "    return"
   ]
  },
  {
   "cell_type": "code",
   "execution_count": 5,
   "metadata": {},
   "outputs": [],
   "source": [
    "class Predicate:\n",
    "    attribute = \"\"\n",
    "    ig = 0\n",
    "    predicate = 0\n",
    "    \n",
    "    def __init__(self, attribute, ig, predicate):\n",
    "        self.attribute = attribute\n",
    "        self.ig = ig\n",
    "        self.predicate = predicate"
   ]
  },
  {
   "cell_type": "code",
   "execution_count": 23,
   "metadata": {},
   "outputs": [
    {
     "data": {
      "text/plain": [
       "492"
      ]
     },
     "execution_count": 23,
     "metadata": {},
     "output_type": "execute_result"
    }
   ],
   "source": [
    "len(df.Class.loc[df.Class == 1])"
   ]
  },
  {
   "cell_type": "code",
   "execution_count": 24,
   "metadata": {},
   "outputs": [
    {
     "name": "stdout",
     "output_type": "stream",
     "text": [
      "V12\n",
      "-2.0438683867492897\n",
      "0.0\n",
      "{'attribute': 'V12', 'value': -2.0438683867492897, 'nodes': {'<=': {...}, '>': {...}}, 'label': 0.0}\n",
      "{'attribute': 'V12', 'value': -2.0438683867492897, 'nodes': {'<=': {...}, '>': {...}}, 'label': 0.0}\n"
     ]
    }
   ],
   "source": [
    "read_tree(tree.node)"
   ]
  },
  {
   "cell_type": "code",
   "execution_count": null,
   "metadata": {},
   "outputs": [],
   "source": []
  }
 ],
 "metadata": {
  "kernelspec": {
   "display_name": "Python 3",
   "language": "python",
   "name": "python3"
  },
  "language_info": {
   "codemirror_mode": {
    "name": "ipython",
    "version": 3
   },
   "file_extension": ".py",
   "mimetype": "text/x-python",
   "name": "python",
   "nbconvert_exporter": "python",
   "pygments_lexer": "ipython3",
   "version": "3.7.6"
  }
 },
 "nbformat": 4,
 "nbformat_minor": 4
}
