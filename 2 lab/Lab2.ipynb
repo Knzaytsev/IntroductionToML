{
 "cells": [
  {
   "cell_type": "markdown",
   "metadata": {},
   "source": [
    "# Лабораторная 2"
   ]
  },
  {
   "cell_type": "code",
   "execution_count": 1,
   "metadata": {},
   "outputs": [],
   "source": [
    "from abc import ABCMeta, abstractmethod\n",
    "import pandas as pd\n",
    "import numpy as np"
   ]
  },
  {
   "cell_type": "code",
   "execution_count": 2,
   "metadata": {},
   "outputs": [],
   "source": [
    "df = pd.read_csv(\"data\\creditcard.csv\")"
   ]
  },
  {
   "cell_type": "code",
   "execution_count": 3,
   "metadata": {},
   "outputs": [
    {
     "data": {
      "text/plain": [
       "0    284315\n",
       "1       492\n",
       "Name: Class, dtype: int64"
      ]
     },
     "execution_count": 3,
     "metadata": {},
     "output_type": "execute_result"
    }
   ],
   "source": [
    "df.Class.value_counts()"
   ]
  },
  {
   "cell_type": "code",
   "execution_count": 4,
   "metadata": {},
   "outputs": [],
   "source": [
    "class Classificator():\n",
    "    __metaclass__ = ABCMeta\n",
    "    \n",
    "    @abstractmethod\n",
    "    def train(X, Y):\n",
    "        '''Обучить модель'''\n",
    "    \n",
    "    @abstractmethod\n",
    "    def predict(self, X):\n",
    "        '''Предсказать данные'''"
   ]
  },
  {
   "cell_type": "code",
   "execution_count": 35,
   "metadata": {},
   "outputs": [],
   "source": [
    "class DecisionTree(Classificator):\n",
    "    model = DecisionTree()\n",
    "    \n",
    "    def train(self, X, Y, depth = 0, prediction=None, max_depth=None, leafValue=None):\n",
    "        entropy = self.calculate_entropy(Y)\n",
    "        print(entropy)\n",
    "        #print(X.columns)\n",
    "        if entropy == 0 or depth == max_depth or len(X) == leafValue:\n",
    "            return self.model\n",
    "        \n",
    "        igs = []\n",
    "        for index, row in X[:1].iterrows():\n",
    "            inner_igs = []\n",
    "            for column in X:\n",
    "                predicate = row[column]\n",
    "                left = X[column].loc[X[column] <= predicate]\n",
    "                right = X[column].loc[X[column] > predicate]\n",
    "                Y_left = Y.loc[left.index]\n",
    "                Y_right = Y.loc[right.index]\n",
    "                groups = [[len(left), self.calculate_entropy(Y_left)], [len(right), self.calculate_entropy(Y_right)]]\n",
    "                ig = self.information_gain(df.Class, entropy, groups)\n",
    "                inner_igs.append(Predicate(column, ig, predicate))\n",
    "            igs.append(self.get_max_ig(inner_igs))\n",
    "            \n",
    "        predicate = igs[0]\n",
    "        for pred in igs:\n",
    "            item = pred\n",
    "            if item.ig > predicate.ig:\n",
    "                predicate = item\n",
    "        \n",
    "        X_left = X.loc[X[predicate.attribute] <= predicate.predicate].drop(predicate.attribute, axis=1)\n",
    "        X_right = X.loc[X[predicate.attribute] > predicate.predicate].drop(predicate.attribute, axis=1)\n",
    "        Y_left = Y.loc[X_left.index]\n",
    "        Y_right = Y.loc[X_right.index]\n",
    "        depth += 1\n",
    "        left_node = DecisionTree().train(X_left, Y_left, depth=depth, max_depth=max_depth)\n",
    "        right_node = DecisionTree().train(X_right, Y_right, depth=depth, max_depth=max_depth)\n",
    "        return X_left\n",
    "    \n",
    "    def predict(self, X):\n",
    "        pass\n",
    "    \n",
    "    def calculate_entropy(self, Y):\n",
    "        count = len(Y)\n",
    "        entropy = 0\n",
    "        for count_class in Y.value_counts():\n",
    "            p = count_class / count\n",
    "            entropy -= p * np.log2(p)\n",
    "        return entropy\n",
    "    \n",
    "    \n",
    "    def information_gain(self, Y, entropy0, groups):\n",
    "        N = len(Y)\n",
    "        sum_entropies = 0\n",
    "        for group in groups:\n",
    "            group\n",
    "            Ni = group[0]\n",
    "            Si = group[1]\n",
    "            sum_entropies += Ni / N * Si\n",
    "        return entropy0 - sum_entropies\n",
    "    \n",
    "    def get_max_ig(self, igs):\n",
    "        information_gain = igs[0]\n",
    "        val = igs[0].ig\n",
    "        for ig in igs:\n",
    "            if ig.ig > val:\n",
    "                information_gain = ig\n",
    "        return information_gain"
   ]
  },
  {
   "cell_type": "code",
   "execution_count": 6,
   "metadata": {},
   "outputs": [],
   "source": [
    "class RandomForest(Classificator):\n",
    "    model = None\n",
    "    \n",
    "    def __init__():\n",
    "        pass\n",
    "    \n",
    "    def train(X, Y):\n",
    "        pass\n",
    "    \n",
    "    def predict(self, X):\n",
    "        pass"
   ]
  },
  {
   "cell_type": "code",
   "execution_count": 7,
   "metadata": {},
   "outputs": [],
   "source": [
    "class GradientBoosting(Classificator):\n",
    "    model = None\n",
    "    \n",
    "    def __init__():\n",
    "        pass\n",
    "    \n",
    "    def train(X, Y):\n",
    "        pass\n",
    "    \n",
    "    def predict(self, X):\n",
    "        pass"
   ]
  },
  {
   "cell_type": "code",
   "execution_count": null,
   "metadata": {},
   "outputs": [],
   "source": [
    "tree = DecisionTree()\n",
    "tree.train(df[df.columns[:-1]], df.Class)"
   ]
  },
  {
   "cell_type": "code",
   "execution_count": 10,
   "metadata": {},
   "outputs": [],
   "source": [
    "class Predicate:\n",
    "    attribute = \"\"\n",
    "    ig = 0\n",
    "    predicate = 0\n",
    "    \n",
    "    def __init__(self, attribute, ig, predicate):\n",
    "        self.attribute = attribute\n",
    "        self.ig = ig\n",
    "        self.predicate = predicate"
   ]
  },
  {
   "cell_type": "code",
   "execution_count": null,
   "metadata": {},
   "outputs": [],
   "source": []
  }
 ],
 "metadata": {
  "kernelspec": {
   "display_name": "Python 3",
   "language": "python",
   "name": "python3"
  },
  "language_info": {
   "codemirror_mode": {
    "name": "ipython",
    "version": 3
   },
   "file_extension": ".py",
   "mimetype": "text/x-python",
   "name": "python",
   "nbconvert_exporter": "python",
   "pygments_lexer": "ipython3",
   "version": "3.7.6"
  }
 },
 "nbformat": 4,
 "nbformat_minor": 4
}
