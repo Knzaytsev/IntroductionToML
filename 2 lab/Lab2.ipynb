{
 "cells": [
  {
   "cell_type": "markdown",
   "metadata": {},
   "source": [
    "# Лабораторная 2"
   ]
  },
  {
   "cell_type": "markdown",
   "metadata": {},
   "source": [
    "### Загрузка библиотек"
   ]
  },
  {
   "cell_type": "code",
   "execution_count": 1,
   "metadata": {},
   "outputs": [],
   "source": [
    "from abc import ABCMeta, abstractmethod\n",
    "import pandas as pd\n",
    "import numpy as np\n",
    "from sklearn.model_selection import train_test_split\n",
    "import warnings\n",
    "warnings.filterwarnings('ignore')"
   ]
  },
  {
   "cell_type": "markdown",
   "metadata": {},
   "source": [
    "### Чтение данных из файла"
   ]
  },
  {
   "cell_type": "code",
   "execution_count": 2,
   "metadata": {},
   "outputs": [],
   "source": [
    "df = pd.read_csv(\"data\\pulsar_stars.csv\")"
   ]
  },
  {
   "cell_type": "markdown",
   "metadata": {},
   "source": [
    "### Просмотр содержимого"
   ]
  },
  {
   "cell_type": "code",
   "execution_count": 3,
   "metadata": {},
   "outputs": [
    {
     "data": {
      "text/html": [
       "<div>\n",
       "<style scoped>\n",
       "    .dataframe tbody tr th:only-of-type {\n",
       "        vertical-align: middle;\n",
       "    }\n",
       "\n",
       "    .dataframe tbody tr th {\n",
       "        vertical-align: top;\n",
       "    }\n",
       "\n",
       "    .dataframe thead th {\n",
       "        text-align: right;\n",
       "    }\n",
       "</style>\n",
       "<table border=\"1\" class=\"dataframe\">\n",
       "  <thead>\n",
       "    <tr style=\"text-align: right;\">\n",
       "      <th></th>\n",
       "      <th>Mean of the integrated profile</th>\n",
       "      <th>Standard deviation of the integrated profile</th>\n",
       "      <th>Excess kurtosis of the integrated profile</th>\n",
       "      <th>Skewness of the integrated profile</th>\n",
       "      <th>Mean of the DM-SNR curve</th>\n",
       "      <th>Standard deviation of the DM-SNR curve</th>\n",
       "      <th>Excess kurtosis of the DM-SNR curve</th>\n",
       "      <th>Skewness of the DM-SNR curve</th>\n",
       "      <th>target_class</th>\n",
       "    </tr>\n",
       "  </thead>\n",
       "  <tbody>\n",
       "    <tr>\n",
       "      <th>0</th>\n",
       "      <td>140.562500</td>\n",
       "      <td>55.683782</td>\n",
       "      <td>-0.234571</td>\n",
       "      <td>-0.699648</td>\n",
       "      <td>3.199833</td>\n",
       "      <td>19.110426</td>\n",
       "      <td>7.975532</td>\n",
       "      <td>74.242225</td>\n",
       "      <td>0</td>\n",
       "    </tr>\n",
       "    <tr>\n",
       "      <th>1</th>\n",
       "      <td>102.507812</td>\n",
       "      <td>58.882430</td>\n",
       "      <td>0.465318</td>\n",
       "      <td>-0.515088</td>\n",
       "      <td>1.677258</td>\n",
       "      <td>14.860146</td>\n",
       "      <td>10.576487</td>\n",
       "      <td>127.393580</td>\n",
       "      <td>0</td>\n",
       "    </tr>\n",
       "    <tr>\n",
       "      <th>2</th>\n",
       "      <td>103.015625</td>\n",
       "      <td>39.341649</td>\n",
       "      <td>0.323328</td>\n",
       "      <td>1.051164</td>\n",
       "      <td>3.121237</td>\n",
       "      <td>21.744669</td>\n",
       "      <td>7.735822</td>\n",
       "      <td>63.171909</td>\n",
       "      <td>0</td>\n",
       "    </tr>\n",
       "    <tr>\n",
       "      <th>3</th>\n",
       "      <td>136.750000</td>\n",
       "      <td>57.178449</td>\n",
       "      <td>-0.068415</td>\n",
       "      <td>-0.636238</td>\n",
       "      <td>3.642977</td>\n",
       "      <td>20.959280</td>\n",
       "      <td>6.896499</td>\n",
       "      <td>53.593661</td>\n",
       "      <td>0</td>\n",
       "    </tr>\n",
       "    <tr>\n",
       "      <th>4</th>\n",
       "      <td>88.726562</td>\n",
       "      <td>40.672225</td>\n",
       "      <td>0.600866</td>\n",
       "      <td>1.123492</td>\n",
       "      <td>1.178930</td>\n",
       "      <td>11.468720</td>\n",
       "      <td>14.269573</td>\n",
       "      <td>252.567306</td>\n",
       "      <td>0</td>\n",
       "    </tr>\n",
       "  </tbody>\n",
       "</table>\n",
       "</div>"
      ],
      "text/plain": [
       "    Mean of the integrated profile  \\\n",
       "0                       140.562500   \n",
       "1                       102.507812   \n",
       "2                       103.015625   \n",
       "3                       136.750000   \n",
       "4                        88.726562   \n",
       "\n",
       "    Standard deviation of the integrated profile  \\\n",
       "0                                      55.683782   \n",
       "1                                      58.882430   \n",
       "2                                      39.341649   \n",
       "3                                      57.178449   \n",
       "4                                      40.672225   \n",
       "\n",
       "    Excess kurtosis of the integrated profile  \\\n",
       "0                                   -0.234571   \n",
       "1                                    0.465318   \n",
       "2                                    0.323328   \n",
       "3                                   -0.068415   \n",
       "4                                    0.600866   \n",
       "\n",
       "    Skewness of the integrated profile   Mean of the DM-SNR curve  \\\n",
       "0                            -0.699648                   3.199833   \n",
       "1                            -0.515088                   1.677258   \n",
       "2                             1.051164                   3.121237   \n",
       "3                            -0.636238                   3.642977   \n",
       "4                             1.123492                   1.178930   \n",
       "\n",
       "    Standard deviation of the DM-SNR curve  \\\n",
       "0                                19.110426   \n",
       "1                                14.860146   \n",
       "2                                21.744669   \n",
       "3                                20.959280   \n",
       "4                                11.468720   \n",
       "\n",
       "    Excess kurtosis of the DM-SNR curve   Skewness of the DM-SNR curve  \\\n",
       "0                              7.975532                      74.242225   \n",
       "1                             10.576487                     127.393580   \n",
       "2                              7.735822                      63.171909   \n",
       "3                              6.896499                      53.593661   \n",
       "4                             14.269573                     252.567306   \n",
       "\n",
       "   target_class  \n",
       "0             0  \n",
       "1             0  \n",
       "2             0  \n",
       "3             0  \n",
       "4             0  "
      ]
     },
     "execution_count": 3,
     "metadata": {},
     "output_type": "execute_result"
    }
   ],
   "source": [
    "df.head()"
   ]
  },
  {
   "cell_type": "markdown",
   "metadata": {},
   "source": [
    "### Написание классов классификаторов"
   ]
  },
  {
   "cell_type": "code",
   "execution_count": 4,
   "metadata": {},
   "outputs": [],
   "source": [
    "# Абстрактный класс классификатора.\n",
    "\n",
    "class Classificator():\n",
    "    __metaclass__ = ABCMeta\n",
    "    \n",
    "    @abstractmethod\n",
    "    def train(X, Y):\n",
    "        '''Обучить модель'''\n",
    "    \n",
    "    @abstractmethod\n",
    "    def predict(self, X, tree):\n",
    "        '''Предсказать данные'''"
   ]
  },
  {
   "cell_type": "code",
   "execution_count": 5,
   "metadata": {},
   "outputs": [],
   "source": [
    "# Классификатор, делающий случайные предсказания.\n",
    "\n",
    "class RandomClassifier(Classificator):\n",
    "    predicate = 0\n",
    "    y = 0\n",
    "    column = ''\n",
    "    p = 0\n",
    "    \n",
    "    def train(self, X, Y):\n",
    "        X = X.sample(1, axis=1)\n",
    "        self.predicate = X.sample(1)\n",
    "        self.y = Y[self.predicate.index]\n",
    "        self.column = self.predicate.columns[0]\n",
    "        self.p = (Y == 1).sum() / len(Y)\n",
    "        self.predicate = self.predicate[self.column].values[0]\n",
    "        \n",
    "    def predict(self, X):\n",
    "        x = X.copy()\n",
    "        x['target'] = [0] * len(x)\n",
    "        x.loc[x[self.column] <= self.predicate, 'target'] = self.p\n",
    "        x.loc[x[self.column] > self.predicate, 'target'] = 1 - self.p\n",
    "        return x.target\n",
    "        "
   ]
  },
  {
   "cell_type": "code",
   "execution_count": 6,
   "metadata": {},
   "outputs": [],
   "source": [
    "# Реализация дерева решений.\n",
    "\n",
    "class DecisionTree(Classificator):\n",
    "    \n",
    "    def train(self, X, Y, tabs=\"\", depth = 0, max_depth=None, min_leaf=1, random_features=False):\n",
    "        # Вычисление энтропии выборки.\n",
    "        entropy = self.calculate_entropy(Y)\n",
    "        node = {}\n",
    "\n",
    "        # Критерии остановки разбиения и создание листа дерева.\n",
    "        if entropy == 0 or depth == max_depth or len(Y) <= min_leaf or len(X.columns) == 0:\n",
    "            p = 0\n",
    "            if len(Y.loc[Y != 1]) == 0:\n",
    "                p = 1\n",
    "            elif len(Y.loc[Y == 1]) == 0:\n",
    "                p = 0\n",
    "            else:\n",
    "                p = len(Y.loc[Y == 1]) / len(Y)\n",
    "            node['label'] = p\n",
    "            return node\n",
    "        \n",
    "        # Условие для получения случайных признаков выборки для случайного леса.\n",
    "        if random_features == True:\n",
    "            X = X.sample(int(np.sqrt(len(X.columns))), axis=1)\n",
    "        \n",
    "        # Нахождение предикатов на основе прироста информации.\n",
    "        igs = []\n",
    "        for index, row in X.iterrows():\n",
    "            inner_igs = []\n",
    "            for column in X:\n",
    "                predicate = row[column]\n",
    "                # Разбиение выборки на две подвыборки на основе предиката.\n",
    "                left = X[column].loc[X[column] <= predicate]\n",
    "                right = X[column].loc[X[column] > predicate]\n",
    "                Y_left = Y.loc[left.index]\n",
    "                Y_right = Y.loc[right.index]\n",
    "                # Вычисление прироста информации на основе полученных подвыборок.\n",
    "                groups = [[len(left), self.calculate_entropy(Y_left)], [len(right), self.calculate_entropy(Y_right)]]\n",
    "                ig = self.information_gain(Y, entropy, groups)\n",
    "                inner_igs.append(Predicate(column, ig, predicate))\n",
    "            igs.append(self.get_max_ig(inner_igs))\n",
    "        \n",
    "        # Получение предиката на основе максимального прироста информации.\n",
    "        predicate = self.get_max_ig(igs)\n",
    "        \n",
    "        # Разбиение выборки на две подвыборки на основе найденного предиката.\n",
    "        X_left = X.loc[X[predicate.attribute] <= predicate.predicate].drop(predicate.attribute, axis=1)\n",
    "        X_right = X.loc[X[predicate.attribute] > predicate.predicate].drop(predicate.attribute, axis=1)\n",
    "        Y_left = Y.loc[X_left.index]\n",
    "        Y_right = Y.loc[X_right.index]\n",
    "        depth += 1\n",
    "        \n",
    "        # Формирование древовидной структуры потомков.\n",
    "        node['attribute'] = predicate.attribute\n",
    "        node['value'] = predicate.predicate\n",
    "        node['nodes'] = {}\n",
    "        node['nodes']['<='] = DecisionTree().train(X_left, Y_left, depth=depth, max_depth=max_depth, min_leaf=min_leaf, random_features=random_features)\n",
    "        node['nodes']['>'] = DecisionTree().train(X_right, Y_right, depth=depth, max_depth=max_depth, min_leaf=min_leaf, random_features=random_features)\n",
    "        return node\n",
    "    \n",
    "    def predict(self, X, tree):\n",
    "        x = X.copy()\n",
    "        x['target'] = [0] * len(x)\n",
    "        return self.set_label(x, tree).target\n",
    "    \n",
    "    def set_label(self, X, tree):\n",
    "        # Является ли tree листом дерева?\n",
    "        if 'label' in tree:\n",
    "            X.target = tree['label']\n",
    "            return X\n",
    "        \n",
    "        # Получение предсказания по потомкам.\n",
    "        left = X.loc[X[tree['attribute']] <= tree['value']]\n",
    "        X.loc[X[tree['attribute']] <= tree['value']] = self.set_label(left, tree['nodes']['<='])\n",
    "        right = X.loc[X[tree['attribute']] > tree['value']]\n",
    "        X.loc[X[tree['attribute']] > tree['value']] = self.set_label(right, tree['nodes']['>'])\n",
    "        return X\n",
    "    \n",
    "    def calculate_entropy(self, Y):\n",
    "        count = len(Y)\n",
    "        entropy = 0\n",
    "        \n",
    "        # Вычисление энтропии по Шеннону\n",
    "        for count_class in Y.value_counts():\n",
    "            p = count_class / count\n",
    "            entropy -= p * np.log2(p)\n",
    "        return entropy\n",
    "    \n",
    "    \n",
    "    def information_gain(self, Y, entropy0, groups):\n",
    "        N = len(Y)\n",
    "        sum_entropies = 0\n",
    "        \n",
    "        # Вычисление информационного прироста по формуле.\n",
    "        for group in groups:\n",
    "            #group\n",
    "            # Количество элементов в выборке.\n",
    "            Ni = group[0]\n",
    "            # Энтропия выборки.\n",
    "            Si = group[1]\n",
    "            sum_entropies += Ni / N * Si\n",
    "        return entropy0 - sum_entropies\n",
    "    \n",
    "    # Нахождение максимального прироста информации.\n",
    "    def get_max_ig(self, igs):\n",
    "        information_gain = igs[0]\n",
    "        for ig in igs:\n",
    "            if ig.ig > information_gain.ig:\n",
    "                information_gain = ig\n",
    "        return information_gain"
   ]
  },
  {
   "cell_type": "code",
   "execution_count": 7,
   "metadata": {},
   "outputs": [],
   "source": [
    "# Реализация случайного леса.\n",
    "\n",
    "class RandomForest(Classificator):\n",
    "    tree = DecisionTree()\n",
    "    model = []\n",
    "    \n",
    "    def train(self, X, Y, N=10, max_depth=None, min_leaf=1):\n",
    "        for i in range(N):\n",
    "            # Получение случайного количества элементов в выборке (bootstrap).\n",
    "            Xn = X.sample(int(len(X) * 2 / 3), replace=True)\n",
    "            Yn = Y.loc[Xn.index]\n",
    "            \n",
    "            # Обучение дерева решений на полученной случайной выборке.\n",
    "            self.model.append(self.tree.train(Xn, Yn, max_depth=max_depth, min_leaf=min_leaf, random_features=True))\n",
    "        return self.model\n",
    "    \n",
    "    def predict(self, X):\n",
    "        # Список предсказаний для каждого дерева решения в лесу.\n",
    "        prediction_list = []\n",
    "        # Результирующее предсказание.\n",
    "        res = []\n",
    "        \n",
    "        # Получение предсказания для текущей модели.\n",
    "        for m in self.model:\n",
    "            prediction_list.append(self.tree.predict(X, tree=m))\n",
    "            \n",
    "        # Вычисление средней вероятности для текущего наблюдения.\n",
    "        for i in prediction_list[0].index:\n",
    "            label = 0\n",
    "            for t in prediction_list:\n",
    "                label += t[i]\n",
    "            label /= len(prediction_list)\n",
    "            res.append(label)\n",
    "        return res"
   ]
  },
  {
   "cell_type": "code",
   "execution_count": 8,
   "metadata": {},
   "outputs": [],
   "source": [
    "# Реализация модели градиентного бустинга.\n",
    "from sklearn.tree import DecisionTreeRegressor\n",
    "\n",
    "class GradientBoosting(Classificator):\n",
    "    model = DecisionTreeRegressor()\n",
    "    \n",
    "    def train(self, X, Y, M, max_depth=None, alpha=0.2, min_leaf=1):\n",
    "        y = Y.copy()\n",
    "        x = X.copy()\n",
    "        x = x.reset_index(drop=True)\n",
    "        y = y.reset_index(drop=True)\n",
    "        # Преобразование в -1 для линейной регрессии.\n",
    "        y.loc[y == 0] = -1\n",
    "        # Получение начального приближения.\n",
    "        F = [[0] * len(y)]\n",
    "        \n",
    "        for t in range(1, M):\n",
    "            # Вычисление остатков.\n",
    "            r = 2 * y / (1 + np.exp(2 * y * F[t - 1]))\n",
    "            # Обучение регрессионного дерева на выборке и остатках.\n",
    "            h = DecisionTreeRegressor(max_depth=max_depth, min_samples_leaf=min_leaf)\n",
    "            h.fit(X, r)\n",
    "            F.append(alpha * h.predict(X))\n",
    "            # Обновление текущего приближения.\n",
    "            F[t] += F[t - 1]\n",
    "        \n",
    "        # Компоновка модели.\n",
    "        self.model.fit(X, F[M - 1])\n",
    "    \n",
    "    def predict(self, X):\n",
    "        return 1 / (1 + np.exp(-self.model.predict(X)))"
   ]
  },
  {
   "cell_type": "code",
   "execution_count": 9,
   "metadata": {},
   "outputs": [],
   "source": [
    "# Реализация вычисления ROC кривой и AUC и отображение на графике.\n",
    "import matplotlib.pyplot as plt\n",
    "\n",
    "class ROC_AUC():\n",
    "    models = []\n",
    "    labels = []\n",
    "    \n",
    "    def __init__(self, models, labels):\n",
    "        self.models = models\n",
    "        self.labels = labels\n",
    "        \n",
    "    def show(self):\n",
    "        for i in range(len(self.models)):\n",
    "            fpr, tpr, auc = self.roc_curve(self.models[i][0], self.models[i][1])\n",
    "            self.labels[i] += \" (AUC = \" + str(round(auc, 2)) + \")\"\n",
    "            plt.plot(fpr, tpr)\n",
    "        plt.plot([0, 1], [0, 1])\n",
    "        plt.xlabel('False Positive Rate')\n",
    "        plt.ylabel('True Positive Rate')\n",
    "        plt.legend(self.labels)\n",
    "        plt.show()\n",
    "    \n",
    "    \n",
    "    def roc_curve(self, y_true, y_score):\n",
    "        y = pd.DataFrame({'true' : y_true, 'score' : y_score})\n",
    "        y = y.sort_values('score', ascending=False).reset_index(drop=True)\n",
    "        m = len(y)\n",
    "        m0 = (y.true == 0).sum()\n",
    "        m1 = (y.true == 1).sum()\n",
    "        FPR, TPR = ([0], [0])\n",
    "        AUC = 0\n",
    "        for i in range(1, m + 1):\n",
    "            if y.true[i - 1] == 0:\n",
    "                FPR.append(FPR[i - 1] + 1 / m0)\n",
    "                TPR.append(TPR[i - 1])\n",
    "                AUC += TPR[i] / m0\n",
    "            else:\n",
    "                FPR.append(FPR[i - 1])\n",
    "                TPR.append(TPR[i - 1] + 1 / m1)\n",
    "        return (FPR, TPR, AUC)"
   ]
  },
  {
   "cell_type": "code",
   "execution_count": 10,
   "metadata": {},
   "outputs": [],
   "source": [
    "# Чтение дерева решений.\n",
    "\n",
    "def read_tree(t, tabs='', d=''):\n",
    "    print(tabs+'predicate: ' + d)\n",
    "    if 'label' in t:\n",
    "        print(tabs+'label: ' + str(t['label']))\n",
    "    else:\n",
    "        print(tabs+'attr: ' + t['attribute'])\n",
    "        print(tabs+'val: ' + str(t['value']))\n",
    "        read_tree(t['nodes']['<='], tabs+'\\t', d='<=')\n",
    "        read_tree(t['nodes']['>'], tabs+'\\t', d='>')\n",
    "    return"
   ]
  },
  {
   "cell_type": "code",
   "execution_count": 11,
   "metadata": {},
   "outputs": [],
   "source": [
    "# Класс для хранения предиката, атрибута разбиения и информационного прироста.\n",
    "\n",
    "class Predicate:\n",
    "    attribute = \"\"\n",
    "    ig = 0\n",
    "    predicate = 0\n",
    "    \n",
    "    def __init__(self, attribute, ig, predicate):\n",
    "        self.attribute = attribute\n",
    "        self.ig = ig\n",
    "        self.predicate = predicate"
   ]
  },
  {
   "cell_type": "markdown",
   "metadata": {},
   "source": [
    "### Создание списка моделей"
   ]
  },
  {
   "cell_type": "code",
   "execution_count": 12,
   "metadata": {},
   "outputs": [],
   "source": [
    "models = []"
   ]
  },
  {
   "cell_type": "markdown",
   "metadata": {},
   "source": [
    "### Создание выборки, на которой будет проходить обучение"
   ]
  },
  {
   "cell_type": "code",
   "execution_count": 13,
   "metadata": {},
   "outputs": [],
   "source": [
    "temp0 = df.loc[df.target_class == 1]\n",
    "temp1 = df.loc[df.target_class == 0].sample(n = 1500)\n",
    "temp = pd.concat([temp0, temp1]).reset_index(drop=True)"
   ]
  },
  {
   "cell_type": "code",
   "execution_count": 14,
   "metadata": {},
   "outputs": [],
   "source": [
    "X = temp[temp.columns[:-1]]\n",
    "y = temp.target_class\n",
    "\n",
    "X_train, X_test, Y_train, Y_test = train_test_split(X, y, test_size=0.2, random_state=42)"
   ]
  },
  {
   "cell_type": "markdown",
   "metadata": {},
   "source": [
    "### Обучение случайного классификатора и получение предсказания"
   ]
  },
  {
   "cell_type": "code",
   "execution_count": 15,
   "metadata": {},
   "outputs": [],
   "source": [
    "random = RandomClassifier()\n",
    "random.train(X_train, Y_train)\n",
    "predicted = random.predict(X_test)\n",
    "models.append([Y_test, predicted])"
   ]
  },
  {
   "cell_type": "markdown",
   "metadata": {},
   "source": [
    "### Обучение дерева решений и получение предсказания"
   ]
  },
  {
   "cell_type": "code",
   "execution_count": 16,
   "metadata": {},
   "outputs": [],
   "source": [
    "tree = DecisionTree()\n",
    "t = tree.train(X_train, Y_train, min_leaf=1000, max_depth=4)\n",
    "predicted = tree.predict(X_test, t)\n",
    "models.append([Y_test, predicted])"
   ]
  },
  {
   "cell_type": "markdown",
   "metadata": {},
   "source": [
    "### Обучение случайного леса и получение предсказания"
   ]
  },
  {
   "cell_type": "code",
   "execution_count": 17,
   "metadata": {},
   "outputs": [],
   "source": [
    "forest = RandomForest()\n",
    "f = forest.train(X_train, Y_train, N=20, min_leaf=1000, max_depth=4)\n",
    "predicted = forest.predict(X_test)\n",
    "models.append([Y_test, predicted])"
   ]
  },
  {
   "cell_type": "markdown",
   "metadata": {},
   "source": [
    "### Обучение модели градиентного бустинга и получение предсказания"
   ]
  },
  {
   "cell_type": "code",
   "execution_count": 65,
   "metadata": {},
   "outputs": [],
   "source": [
    "gbm = GradientBoosting()\n",
    "gbm.train(X_train, Y_train, M=3, min_leaf=1000, max_depth=4)\n",
    "predicted = gbm.predict(X_test)\n",
    "models.append([Y_test, predicted])"
   ]
  },
  {
   "cell_type": "markdown",
   "metadata": {},
   "source": [
    "### Визуализация ROC кривых для моделей"
   ]
  },
  {
   "cell_type": "code",
   "execution_count": 66,
   "metadata": {},
   "outputs": [
    {
     "data": {
      "image/png": "[encoded data removed]",
      "text/plain": [
       "<Figure size 432x288 with 1 Axes>"
      ]
     },
     "metadata": {
      "needs_background": "light"
     },
     "output_type": "display_data"
    }
   ],
   "source": [
    "roc_auc = ROC_AUC(models, ['random', 'tree', 'forest',  'gbm'])\n",
    "roc_auc.show()"
   ]
  },
  {
   "cell_type": "markdown",
   "metadata": {},
   "source": [
    "### Ссылка на репозиторий"
   ]
  },
  {
   "cell_type": "markdown",
   "metadata": {},
   "source": [
    "https://github.com/Knzaytsev/IntroductionToML/tree/master/2%20lab"
   ]
  },
  {
   "cell_type": "code",
   "execution_count": null,
   "metadata": {},
   "outputs": [],
   "source": []
  }
 ],
 "metadata": {
  "kernelspec": {
   "display_name": "Python 3",
   "language": "python",
   "name": "python3"
  },
  "language_info": {
   "codemirror_mode": {
    "name": "ipython",
    "version": 3
   },
   "file_extension": ".py",
   "mimetype": "text/x-python",
   "name": "python",
   "nbconvert_exporter": "python",
   "pygments_lexer": "ipython3",
   "version": "3.7.6"
  }
 },
 "nbformat": 4,
 "nbformat_minor": 4
}
