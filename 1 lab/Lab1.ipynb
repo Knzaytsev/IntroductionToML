{
 "cells": [
  {
   "cell_type": "markdown",
   "metadata": {},
   "source": [
    "# Лабораторная 1"
   ]
  },
  {
   "cell_type": "markdown",
   "metadata": {},
   "source": [
    "## Загружаем данные"
   ]
  },
  {
   "cell_type": "code",
   "execution_count": 8,
   "metadata": {},
   "outputs": [],
   "source": [
    "import pandas as pd\n",
    "import numpy as np"
   ]
  },
  {
   "cell_type": "code",
   "execution_count": 9,
   "metadata": {},
   "outputs": [],
   "source": [
    "df_resto = pd.read_csv('data/casc-resto.csv', sep=';', decimal=',')"
   ]
  },
  {
   "cell_type": "code",
   "execution_count": 10,
   "metadata": {},
   "outputs": [],
   "source": [
    "df_dem = pd.read_csv('data/CASC_Constant.csv')"
   ]
  },
  {
   "cell_type": "code",
   "execution_count": 11,
   "metadata": {},
   "outputs": [
    {
     "data": {
      "text/html": [
       "<div>\n",
       "<style scoped>\n",
       "    .dataframe tbody tr th:only-of-type {\n",
       "        vertical-align: middle;\n",
       "    }\n",
       "\n",
       "    .dataframe tbody tr th {\n",
       "        vertical-align: top;\n",
       "    }\n",
       "\n",
       "    .dataframe thead th {\n",
       "        text-align: right;\n",
       "    }\n",
       "</style>\n",
       "<table border=\"1\" class=\"dataframe\">\n",
       "  <thead>\n",
       "    <tr style=\"text-align: right;\">\n",
       "      <th></th>\n",
       "      <th>CustomerID</th>\n",
       "      <th>Restaurant</th>\n",
       "      <th>Quantity</th>\n",
       "      <th>SummBasic</th>\n",
       "      <th>SummAfterPointsUsage</th>\n",
       "    </tr>\n",
       "  </thead>\n",
       "  <tbody>\n",
       "    <tr>\n",
       "      <td>count</td>\n",
       "      <td>8.822220e+05</td>\n",
       "      <td>882222.000000</td>\n",
       "      <td>882222.000000</td>\n",
       "      <td>882222.000000</td>\n",
       "      <td>882222.000000</td>\n",
       "    </tr>\n",
       "    <tr>\n",
       "      <td>mean</td>\n",
       "      <td>2.809199e+06</td>\n",
       "      <td>468.268804</td>\n",
       "      <td>1.154900</td>\n",
       "      <td>287.725795</td>\n",
       "      <td>260.255589</td>\n",
       "    </tr>\n",
       "    <tr>\n",
       "      <td>std</td>\n",
       "      <td>6.178420e+04</td>\n",
       "      <td>279.170967</td>\n",
       "      <td>0.650287</td>\n",
       "      <td>264.555291</td>\n",
       "      <td>251.289517</td>\n",
       "    </tr>\n",
       "    <tr>\n",
       "      <td>min</td>\n",
       "      <td>2.728046e+06</td>\n",
       "      <td>40.000000</td>\n",
       "      <td>0.000000</td>\n",
       "      <td>0.500000</td>\n",
       "      <td>-2593.000000</td>\n",
       "    </tr>\n",
       "    <tr>\n",
       "      <td>25%</td>\n",
       "      <td>2.754886e+06</td>\n",
       "      <td>333.000000</td>\n",
       "      <td>1.000000</td>\n",
       "      <td>120.000000</td>\n",
       "      <td>110.000000</td>\n",
       "    </tr>\n",
       "    <tr>\n",
       "      <td>50%</td>\n",
       "      <td>2.785104e+06</td>\n",
       "      <td>434.000000</td>\n",
       "      <td>1.000000</td>\n",
       "      <td>225.000000</td>\n",
       "      <td>199.000000</td>\n",
       "    </tr>\n",
       "    <tr>\n",
       "      <td>75%</td>\n",
       "      <td>2.878900e+06</td>\n",
       "      <td>712.000000</td>\n",
       "      <td>1.000000</td>\n",
       "      <td>379.000000</td>\n",
       "      <td>348.940000</td>\n",
       "    </tr>\n",
       "    <tr>\n",
       "      <td>max</td>\n",
       "      <td>2.913132e+06</td>\n",
       "      <td>980.000000</td>\n",
       "      <td>107.000000</td>\n",
       "      <td>29450.000000</td>\n",
       "      <td>29450.000000</td>\n",
       "    </tr>\n",
       "  </tbody>\n",
       "</table>\n",
       "</div>"
      ],
      "text/plain": [
       "         CustomerID     Restaurant       Quantity      SummBasic  \\\n",
       "count  8.822220e+05  882222.000000  882222.000000  882222.000000   \n",
       "mean   2.809199e+06     468.268804       1.154900     287.725795   \n",
       "std    6.178420e+04     279.170967       0.650287     264.555291   \n",
       "min    2.728046e+06      40.000000       0.000000       0.500000   \n",
       "25%    2.754886e+06     333.000000       1.000000     120.000000   \n",
       "50%    2.785104e+06     434.000000       1.000000     225.000000   \n",
       "75%    2.878900e+06     712.000000       1.000000     379.000000   \n",
       "max    2.913132e+06     980.000000     107.000000   29450.000000   \n",
       "\n",
       "       SummAfterPointsUsage  \n",
       "count         882222.000000  \n",
       "mean             260.255589  \n",
       "std              251.289517  \n",
       "min            -2593.000000  \n",
       "25%              110.000000  \n",
       "50%              199.000000  \n",
       "75%              348.940000  \n",
       "max            29450.000000  "
      ]
     },
     "execution_count": 11,
     "metadata": {},
     "output_type": "execute_result"
    }
   ],
   "source": [
    "df_resto.describe()"
   ]
  },
  {
   "cell_type": "code",
   "execution_count": 12,
   "metadata": {},
   "outputs": [
    {
     "data": {
      "text/html": [
       "<div>\n",
       "<style scoped>\n",
       "    .dataframe tbody tr th:only-of-type {\n",
       "        vertical-align: middle;\n",
       "    }\n",
       "\n",
       "    .dataframe tbody tr th {\n",
       "        vertical-align: top;\n",
       "    }\n",
       "\n",
       "    .dataframe thead th {\n",
       "        text-align: right;\n",
       "    }\n",
       "</style>\n",
       "<table border=\"1\" class=\"dataframe\">\n",
       "  <thead>\n",
       "    <tr style=\"text-align: right;\">\n",
       "      <th></th>\n",
       "      <th>CustomerId</th>\n",
       "      <th>Age</th>\n",
       "    </tr>\n",
       "  </thead>\n",
       "  <tbody>\n",
       "    <tr>\n",
       "      <td>count</td>\n",
       "      <td>1.000000e+04</td>\n",
       "      <td>9953.000000</td>\n",
       "    </tr>\n",
       "    <tr>\n",
       "      <td>mean</td>\n",
       "      <td>2.812482e+06</td>\n",
       "      <td>32.894203</td>\n",
       "    </tr>\n",
       "    <tr>\n",
       "      <td>std</td>\n",
       "      <td>6.227632e+04</td>\n",
       "      <td>11.954687</td>\n",
       "    </tr>\n",
       "    <tr>\n",
       "      <td>min</td>\n",
       "      <td>2.728046e+06</td>\n",
       "      <td>16.000000</td>\n",
       "    </tr>\n",
       "    <tr>\n",
       "      <td>25%</td>\n",
       "      <td>2.756356e+06</td>\n",
       "      <td>26.000000</td>\n",
       "    </tr>\n",
       "    <tr>\n",
       "      <td>50%</td>\n",
       "      <td>2.794998e+06</td>\n",
       "      <td>31.000000</td>\n",
       "    </tr>\n",
       "    <tr>\n",
       "      <td>75%</td>\n",
       "      <td>2.880618e+06</td>\n",
       "      <td>37.000000</td>\n",
       "    </tr>\n",
       "    <tr>\n",
       "      <td>max</td>\n",
       "      <td>2.913132e+06</td>\n",
       "      <td>247.000000</td>\n",
       "    </tr>\n",
       "  </tbody>\n",
       "</table>\n",
       "</div>"
      ],
      "text/plain": [
       "         CustomerId          Age\n",
       "count  1.000000e+04  9953.000000\n",
       "mean   2.812482e+06    32.894203\n",
       "std    6.227632e+04    11.954687\n",
       "min    2.728046e+06    16.000000\n",
       "25%    2.756356e+06    26.000000\n",
       "50%    2.794998e+06    31.000000\n",
       "75%    2.880618e+06    37.000000\n",
       "max    2.913132e+06   247.000000"
      ]
     },
     "execution_count": 12,
     "metadata": {},
     "output_type": "execute_result"
    }
   ],
   "source": [
    "df_dem.describe()"
   ]
  },
  {
   "cell_type": "markdown",
   "metadata": {},
   "source": [
    "## Чистим данные"
   ]
  },
  {
   "cell_type": "code",
   "execution_count": 16,
   "metadata": {},
   "outputs": [],
   "source": [
    "df_resto = df_resto[df_resto['SummAfterPointsUsage'] > 0]"
   ]
  },
  {
   "cell_type": "code",
   "execution_count": 17,
   "metadata": {},
   "outputs": [],
   "source": [
    "df_dem['Age'] = list(map(lambda x : df_dem['Age'].mean() if x > 100 else x, df_dem['Age'])) "
   ]
  },
  {
   "cell_type": "markdown",
   "metadata": {},
   "source": [
    "## Обрабатываем данные"
   ]
  },
  {
   "cell_type": "markdown",
   "metadata": {},
   "source": [
    "### Формируем целевую переменную"
   ]
  },
  {
   "cell_type": "code",
   "execution_count": 18,
   "metadata": {},
   "outputs": [],
   "source": [
    "df_date = df_resto.groupby('CustomerID').apply(lambda x : pd.Series(dict(Y = x.RKDate.max() >= '2017-07-01')))"
   ]
  },
  {
   "cell_type": "markdown",
   "metadata": {},
   "source": [
    "### Фильтруем записи"
   ]
  },
  {
   "cell_type": "code",
   "execution_count": 19,
   "metadata": {},
   "outputs": [],
   "source": [
    "df_agg = df_resto[df_resto['RKDate'] < '2017-07-01']"
   ]
  },
  {
   "cell_type": "markdown",
   "metadata": {},
   "source": [
    "### Получаем агрегированные данные"
   ]
  },
  {
   "cell_type": "code",
   "execution_count": 20,
   "metadata": {},
   "outputs": [],
   "source": [
    "from datetime import datetime\n",
    "\n",
    "def get_agg(tmp):\n",
    "    date = datetime.strptime('2017-07-01', '%Y-%m-%d')\n",
    "    tmp['Date'] = pd.to_datetime(tmp['RKDate'], format='%Y-%m-%d')\n",
    "    recency = (date - tmp['Date'].max()).days\n",
    "    tmp['Day'] = tmp['Date'].dt.day\n",
    "    tmp['Month'] = pd.to_datetime(tmp['Date']).dt.to_period('M')\n",
    "    frequency = tmp['Day'].count() / tmp['Month'].nunique()\n",
    "    monetary_value = tmp['SummAfterPointsUsage'].mean()\n",
    "    # Выделяем наиболее часто посещаемый день недели.\n",
    "    tmp['DayOfWeek'] = tmp['Date'].dt.dayofweek\n",
    "    dayofweek = tmp['DayOfWeek'].value_counts().idxmax()\n",
    "    # Кодируем регионы.\n",
    "    tmp['Region'] = list(map(lambda x : 0 if x == 'Москва и Московская область' else 1, tmp['RegionName']))\n",
    "    region = tmp['Region'].max()\n",
    "    return pd.Series(dict(Recency = recency, Frequency = frequency, Monetary_Value = monetary_value, DayOfWeek = dayofweek, Region = region))"
   ]
  },
  {
   "cell_type": "code",
   "execution_count": 21,
   "metadata": {},
   "outputs": [],
   "source": [
    "df_agg = df_agg.groupby('CustomerID').apply(get_agg)"
   ]
  },
  {
   "cell_type": "code",
   "execution_count": 22,
   "metadata": {},
   "outputs": [
    {
     "data": {
      "text/html": [
       "<div>\n",
       "<style scoped>\n",
       "    .dataframe tbody tr th:only-of-type {\n",
       "        vertical-align: middle;\n",
       "    }\n",
       "\n",
       "    .dataframe tbody tr th {\n",
       "        vertical-align: top;\n",
       "    }\n",
       "\n",
       "    .dataframe thead th {\n",
       "        text-align: right;\n",
       "    }\n",
       "</style>\n",
       "<table border=\"1\" class=\"dataframe\">\n",
       "  <thead>\n",
       "    <tr style=\"text-align: right;\">\n",
       "      <th></th>\n",
       "      <th>Recency</th>\n",
       "      <th>Frequency</th>\n",
       "      <th>Monetary_Value</th>\n",
       "      <th>DayOfWeek</th>\n",
       "      <th>Region</th>\n",
       "    </tr>\n",
       "  </thead>\n",
       "  <tbody>\n",
       "    <tr>\n",
       "      <td>count</td>\n",
       "      <td>9938.000000</td>\n",
       "      <td>9938.000000</td>\n",
       "      <td>9938.000000</td>\n",
       "      <td>9938.000000</td>\n",
       "      <td>9938.0</td>\n",
       "    </tr>\n",
       "    <tr>\n",
       "      <td>mean</td>\n",
       "      <td>259.387201</td>\n",
       "      <td>8.389211</td>\n",
       "      <td>292.692648</td>\n",
       "      <td>3.638760</td>\n",
       "      <td>1.0</td>\n",
       "    </tr>\n",
       "    <tr>\n",
       "      <td>std</td>\n",
       "      <td>254.477647</td>\n",
       "      <td>5.797380</td>\n",
       "      <td>100.690789</td>\n",
       "      <td>1.904195</td>\n",
       "      <td>0.0</td>\n",
       "    </tr>\n",
       "    <tr>\n",
       "      <td>min</td>\n",
       "      <td>1.000000</td>\n",
       "      <td>1.000000</td>\n",
       "      <td>69.794811</td>\n",
       "      <td>0.000000</td>\n",
       "      <td>1.0</td>\n",
       "    </tr>\n",
       "    <tr>\n",
       "      <td>25%</td>\n",
       "      <td>42.000000</td>\n",
       "      <td>5.285714</td>\n",
       "      <td>231.172078</td>\n",
       "      <td>2.000000</td>\n",
       "      <td>1.0</td>\n",
       "    </tr>\n",
       "    <tr>\n",
       "      <td>50%</td>\n",
       "      <td>158.000000</td>\n",
       "      <td>7.000000</td>\n",
       "      <td>289.312627</td>\n",
       "      <td>4.000000</td>\n",
       "      <td>1.0</td>\n",
       "    </tr>\n",
       "    <tr>\n",
       "      <td>75%</td>\n",
       "      <td>438.000000</td>\n",
       "      <td>9.577068</td>\n",
       "      <td>347.028846</td>\n",
       "      <td>5.000000</td>\n",
       "      <td>1.0</td>\n",
       "    </tr>\n",
       "    <tr>\n",
       "      <td>max</td>\n",
       "      <td>912.000000</td>\n",
       "      <td>84.962963</td>\n",
       "      <td>1429.631210</td>\n",
       "      <td>6.000000</td>\n",
       "      <td>1.0</td>\n",
       "    </tr>\n",
       "  </tbody>\n",
       "</table>\n",
       "</div>"
      ],
      "text/plain": [
       "           Recency    Frequency  Monetary_Value    DayOfWeek  Region\n",
       "count  9938.000000  9938.000000     9938.000000  9938.000000  9938.0\n",
       "mean    259.387201     8.389211      292.692648     3.638760     1.0\n",
       "std     254.477647     5.797380      100.690789     1.904195     0.0\n",
       "min       1.000000     1.000000       69.794811     0.000000     1.0\n",
       "25%      42.000000     5.285714      231.172078     2.000000     1.0\n",
       "50%     158.000000     7.000000      289.312627     4.000000     1.0\n",
       "75%     438.000000     9.577068      347.028846     5.000000     1.0\n",
       "max     912.000000    84.962963     1429.631210     6.000000     1.0"
      ]
     },
     "execution_count": 22,
     "metadata": {},
     "output_type": "execute_result"
    }
   ],
   "source": [
    "df_agg.describe()"
   ]
  },
  {
   "cell_type": "markdown",
   "metadata": {},
   "source": [
    "## Объединяем данные"
   ]
  },
  {
   "cell_type": "code",
   "execution_count": 23,
   "metadata": {},
   "outputs": [],
   "source": [
    "df_all = pd.merge(left=df_date, right=df_agg, left_on='CustomerID', right_on='CustomerID')"
   ]
  },
  {
   "cell_type": "code",
   "execution_count": 24,
   "metadata": {},
   "outputs": [],
   "source": [
    "df_all = pd.merge(left=df_all, right=df_dem, left_on='CustomerID', right_on='CustomerId')\n",
    "df_all['Sex'] = list(map(lambda x : 0 if x == 'Male' else (1 if x == 'Female' else 2), df_all['Sex']))\n",
    "df_all['Age'] = df_all['Age'].fillna(df_all['Age'].mean())"
   ]
  },
  {
   "cell_type": "code",
   "execution_count": 25,
   "metadata": {},
   "outputs": [
    {
     "data": {
      "text/html": [
       "<div>\n",
       "<style scoped>\n",
       "    .dataframe tbody tr th:only-of-type {\n",
       "        vertical-align: middle;\n",
       "    }\n",
       "\n",
       "    .dataframe tbody tr th {\n",
       "        vertical-align: top;\n",
       "    }\n",
       "\n",
       "    .dataframe thead th {\n",
       "        text-align: right;\n",
       "    }\n",
       "</style>\n",
       "<table border=\"1\" class=\"dataframe\">\n",
       "  <thead>\n",
       "    <tr style=\"text-align: right;\">\n",
       "      <th></th>\n",
       "      <th>Recency</th>\n",
       "      <th>Frequency</th>\n",
       "      <th>Monetary_Value</th>\n",
       "      <th>DayOfWeek</th>\n",
       "      <th>Region</th>\n",
       "      <th>CustomerId</th>\n",
       "      <th>Age</th>\n",
       "      <th>Sex</th>\n",
       "    </tr>\n",
       "  </thead>\n",
       "  <tbody>\n",
       "    <tr>\n",
       "      <td>count</td>\n",
       "      <td>9938.000000</td>\n",
       "      <td>9938.000000</td>\n",
       "      <td>9938.000000</td>\n",
       "      <td>9938.000000</td>\n",
       "      <td>9938.0</td>\n",
       "      <td>9.938000e+03</td>\n",
       "      <td>9938.000000</td>\n",
       "      <td>9938.000000</td>\n",
       "    </tr>\n",
       "    <tr>\n",
       "      <td>mean</td>\n",
       "      <td>259.387201</td>\n",
       "      <td>8.389211</td>\n",
       "      <td>292.692648</td>\n",
       "      <td>3.638760</td>\n",
       "      <td>1.0</td>\n",
       "      <td>2.812421e+06</td>\n",
       "      <td>32.091205</td>\n",
       "      <td>0.739787</td>\n",
       "    </tr>\n",
       "    <tr>\n",
       "      <td>std</td>\n",
       "      <td>254.477647</td>\n",
       "      <td>5.797380</td>\n",
       "      <td>100.690789</td>\n",
       "      <td>1.904195</td>\n",
       "      <td>0.0</td>\n",
       "      <td>6.231510e+04</td>\n",
       "      <td>8.050908</td>\n",
       "      <td>0.647107</td>\n",
       "    </tr>\n",
       "    <tr>\n",
       "      <td>min</td>\n",
       "      <td>1.000000</td>\n",
       "      <td>1.000000</td>\n",
       "      <td>69.794811</td>\n",
       "      <td>0.000000</td>\n",
       "      <td>1.0</td>\n",
       "      <td>2.728046e+06</td>\n",
       "      <td>16.000000</td>\n",
       "      <td>0.000000</td>\n",
       "    </tr>\n",
       "    <tr>\n",
       "      <td>25%</td>\n",
       "      <td>42.000000</td>\n",
       "      <td>5.285714</td>\n",
       "      <td>231.172078</td>\n",
       "      <td>2.000000</td>\n",
       "      <td>1.0</td>\n",
       "      <td>2.756314e+06</td>\n",
       "      <td>26.000000</td>\n",
       "      <td>0.000000</td>\n",
       "    </tr>\n",
       "    <tr>\n",
       "      <td>50%</td>\n",
       "      <td>158.000000</td>\n",
       "      <td>7.000000</td>\n",
       "      <td>289.312627</td>\n",
       "      <td>4.000000</td>\n",
       "      <td>1.0</td>\n",
       "      <td>2.794642e+06</td>\n",
       "      <td>31.000000</td>\n",
       "      <td>1.000000</td>\n",
       "    </tr>\n",
       "    <tr>\n",
       "      <td>75%</td>\n",
       "      <td>438.000000</td>\n",
       "      <td>9.577068</td>\n",
       "      <td>347.028846</td>\n",
       "      <td>5.000000</td>\n",
       "      <td>1.0</td>\n",
       "      <td>2.880642e+06</td>\n",
       "      <td>36.000000</td>\n",
       "      <td>1.000000</td>\n",
       "    </tr>\n",
       "    <tr>\n",
       "      <td>max</td>\n",
       "      <td>912.000000</td>\n",
       "      <td>84.962963</td>\n",
       "      <td>1429.631210</td>\n",
       "      <td>6.000000</td>\n",
       "      <td>1.0</td>\n",
       "      <td>2.913132e+06</td>\n",
       "      <td>96.000000</td>\n",
       "      <td>2.000000</td>\n",
       "    </tr>\n",
       "  </tbody>\n",
       "</table>\n",
       "</div>"
      ],
      "text/plain": [
       "           Recency    Frequency  Monetary_Value    DayOfWeek  Region  \\\n",
       "count  9938.000000  9938.000000     9938.000000  9938.000000  9938.0   \n",
       "mean    259.387201     8.389211      292.692648     3.638760     1.0   \n",
       "std     254.477647     5.797380      100.690789     1.904195     0.0   \n",
       "min       1.000000     1.000000       69.794811     0.000000     1.0   \n",
       "25%      42.000000     5.285714      231.172078     2.000000     1.0   \n",
       "50%     158.000000     7.000000      289.312627     4.000000     1.0   \n",
       "75%     438.000000     9.577068      347.028846     5.000000     1.0   \n",
       "max     912.000000    84.962963     1429.631210     6.000000     1.0   \n",
       "\n",
       "         CustomerId          Age          Sex  \n",
       "count  9.938000e+03  9938.000000  9938.000000  \n",
       "mean   2.812421e+06    32.091205     0.739787  \n",
       "std    6.231510e+04     8.050908     0.647107  \n",
       "min    2.728046e+06    16.000000     0.000000  \n",
       "25%    2.756314e+06    26.000000     0.000000  \n",
       "50%    2.794642e+06    31.000000     1.000000  \n",
       "75%    2.880642e+06    36.000000     1.000000  \n",
       "max    2.913132e+06    96.000000     2.000000  "
      ]
     },
     "execution_count": 25,
     "metadata": {},
     "output_type": "execute_result"
    }
   ],
   "source": [
    "df_all.describe()"
   ]
  },
  {
   "cell_type": "markdown",
   "metadata": {},
   "source": [
    "## Обучаем модель"
   ]
  },
  {
   "cell_type": "markdown",
   "metadata": {},
   "source": [
    "### Выделяем нужные признаки"
   ]
  },
  {
   "cell_type": "code",
   "execution_count": 26,
   "metadata": {},
   "outputs": [],
   "source": [
    "X = df_all[['Recency', 'Frequency', 'Monetary_Value', 'DayOfWeek', 'Region', 'Age', 'Sex']]\n",
    "y = df_all['Y']"
   ]
  },
  {
   "cell_type": "markdown",
   "metadata": {},
   "source": [
    "### Обучаем логистическую модель"
   ]
  },
  {
   "cell_type": "code",
   "execution_count": 27,
   "metadata": {},
   "outputs": [
    {
     "name": "stderr",
     "output_type": "stream",
     "text": [
      "C:\\Users\\Tuccc\\Anaconda3\\lib\\site-packages\\sklearn\\linear_model\\logistic.py:432: FutureWarning: Default solver will be changed to 'lbfgs' in 0.22. Specify a solver to silence this warning.\n",
      "  FutureWarning)\n"
     ]
    }
   ],
   "source": [
    "from sklearn.model_selection import train_test_split\n",
    "from sklearn.linear_model import LogisticRegression\n",
    "\n",
    "X_train, X_test, y_train, y_test = train_test_split(X, y, test_size=0.2)\n",
    "reg = LogisticRegression()\n",
    "reg.fit(X_train, y_train)\n",
    "y_pred = reg.predict(X_test)"
   ]
  },
  {
   "cell_type": "markdown",
   "metadata": {},
   "source": [
    "### Оцениваем полученную модель"
   ]
  },
  {
   "cell_type": "code",
   "execution_count": 28,
   "metadata": {},
   "outputs": [
    {
     "name": "stdout",
     "output_type": "stream",
     "text": [
      "Score:  0.7298792756539235\n",
      "Precision:  0.829004329004329\n",
      "Recall:  0.6689956331877729\n"
     ]
    }
   ],
   "source": [
    "from sklearn.metrics import recall_score, precision_score\n",
    "\n",
    "print('Score: ', reg.score(X_test, y_test))\n",
    "print('Precision: ', precision_score(y_pred, y_test))\n",
    "print('Recall: ', recall_score(y_pred, y_test))"
   ]
  },
  {
   "cell_type": "code",
   "execution_count": null,
   "metadata": {},
   "outputs": [],
   "source": []
  }
 ],
 "metadata": {
  "kernelspec": {
   "display_name": "Python 3",
   "language": "python",
   "name": "python3"
  },
  "language_info": {
   "codemirror_mode": {
    "name": "ipython",
    "version": 3
   },
   "file_extension": ".py",
   "mimetype": "text/x-python",
   "name": "python",
   "nbconvert_exporter": "python",
   "pygments_lexer": "ipython3",
   "version": "3.7.4"
  }
 },
 "nbformat": 4,
 "nbformat_minor": 2
}
