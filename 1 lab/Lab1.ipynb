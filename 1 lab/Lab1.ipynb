{
 "cells": [
  {
   "cell_type": "code",
   "execution_count": 44,
   "metadata": {},
   "outputs": [],
   "source": [
    "import pandas as pd\n",
    "import numpy as np"
   ]
  },
  {
   "cell_type": "code",
   "execution_count": 60,
   "metadata": {},
   "outputs": [],
   "source": [
    "df_resto = pd.read_csv('data/casc-resto.csv', sep=';', decimal=',')"
   ]
  },
  {
   "cell_type": "code",
   "execution_count": 46,
   "metadata": {},
   "outputs": [],
   "source": [
    "df_dem = pd.read_csv('data/CASC_Constant.csv')"
   ]
  },
  {
   "cell_type": "code",
   "execution_count": 65,
   "metadata": {},
   "outputs": [],
   "source": [
    "df_date = df_resto.groupby('CustomerID').apply(lambda x : pd.Series(dict(Y = x.RKDate.max() >= '2017-07-01')))"
   ]
  },
  {
   "cell_type": "code",
   "execution_count": 66,
   "metadata": {},
   "outputs": [
    {
     "data": {
      "text/html": [
       "<div>\n",
       "<style scoped>\n",
       "    .dataframe tbody tr th:only-of-type {\n",
       "        vertical-align: middle;\n",
       "    }\n",
       "\n",
       "    .dataframe tbody tr th {\n",
       "        vertical-align: top;\n",
       "    }\n",
       "\n",
       "    .dataframe thead th {\n",
       "        text-align: right;\n",
       "    }\n",
       "</style>\n",
       "<table border=\"1\" class=\"dataframe\">\n",
       "  <thead>\n",
       "    <tr style=\"text-align: right;\">\n",
       "      <th></th>\n",
       "      <th>Y</th>\n",
       "    </tr>\n",
       "    <tr>\n",
       "      <th>CustomerID</th>\n",
       "      <th></th>\n",
       "    </tr>\n",
       "  </thead>\n",
       "  <tbody>\n",
       "    <tr>\n",
       "      <td>2728046</td>\n",
       "      <td>False</td>\n",
       "    </tr>\n",
       "    <tr>\n",
       "      <td>2728088</td>\n",
       "      <td>False</td>\n",
       "    </tr>\n",
       "    <tr>\n",
       "      <td>2728089</td>\n",
       "      <td>True</td>\n",
       "    </tr>\n",
       "    <tr>\n",
       "      <td>2728095</td>\n",
       "      <td>False</td>\n",
       "    </tr>\n",
       "    <tr>\n",
       "      <td>2728107</td>\n",
       "      <td>True</td>\n",
       "    </tr>\n",
       "    <tr>\n",
       "      <td>...</td>\n",
       "      <td>...</td>\n",
       "    </tr>\n",
       "    <tr>\n",
       "      <td>2913103</td>\n",
       "      <td>False</td>\n",
       "    </tr>\n",
       "    <tr>\n",
       "      <td>2913106</td>\n",
       "      <td>False</td>\n",
       "    </tr>\n",
       "    <tr>\n",
       "      <td>2913114</td>\n",
       "      <td>False</td>\n",
       "    </tr>\n",
       "    <tr>\n",
       "      <td>2913123</td>\n",
       "      <td>True</td>\n",
       "    </tr>\n",
       "    <tr>\n",
       "      <td>2913132</td>\n",
       "      <td>True</td>\n",
       "    </tr>\n",
       "  </tbody>\n",
       "</table>\n",
       "<p>10000 rows × 1 columns</p>\n",
       "</div>"
      ],
      "text/plain": [
       "                Y\n",
       "CustomerID       \n",
       "2728046     False\n",
       "2728088     False\n",
       "2728089      True\n",
       "2728095     False\n",
       "2728107      True\n",
       "...           ...\n",
       "2913103     False\n",
       "2913106     False\n",
       "2913114     False\n",
       "2913123      True\n",
       "2913132      True\n",
       "\n",
       "[10000 rows x 1 columns]"
      ]
     },
     "execution_count": 66,
     "metadata": {},
     "output_type": "execute_result"
    }
   ],
   "source": [
    "df_date"
   ]
  },
  {
   "cell_type": "code",
   "execution_count": 82,
   "metadata": {},
   "outputs": [],
   "source": [
    "df_agg = df_resto[df_resto['RKDate'] < '2017-07-01']"
   ]
  },
  {
   "cell_type": "code",
   "execution_count": 87,
   "metadata": {},
   "outputs": [],
   "source": [
    "df_agg = df_agg.groupby('CustomerID').apply(get_agg)"
   ]
  },
  {
   "cell_type": "code",
   "execution_count": 86,
   "metadata": {},
   "outputs": [],
   "source": [
    "from datetime import datetime\n",
    "\n",
    "def get_agg(tmp):\n",
    "    date = datetime.strptime('2017-07-01', '%Y-%m-%d')\n",
    "    tmp['Date'] = pd.to_datetime(tmp['RKDate'], format='%Y-%m-%d')\n",
    "    recency = (date - tmp['Date'].max()).days\n",
    "    tmp['Day'] = tmp['Date'].dt.day\n",
    "    tmp['Month'] = pd.to_datetime(tmp['Date']).dt.to_period('M')\n",
    "    frequency = tmp['Day'].count() / tmp['Month'].nunique()\n",
    "    monetary_value = tmp['SummAfterPointsUsage'].mean()\n",
    "    tmp['DayOfWeek'] = tmp['Date'].dt.dayofweek\n",
    "    dayofweek = tmp['DayOfWeek'].value_counts().idxmax()\n",
    "    regions = tmp.groupby('RegionName')['RegionName'].count()\n",
    "    high_region = regions[regions >= 10000]\n",
    "    low_region = regions[regions < 1000]\n",
    "    tmp['Region'] = list(map(lambda x : 0 if x in high_region else (1 if x in low_region else 2), tmp['RegionName']))\n",
    "    region = tmp['Region'].max()\n",
    "    return pd.Series(dict(Recency = recency, Frequency = frequency, Monetary_Value = monetary_value, DayOfWeek = dayofweek, Region = region))"
   ]
  },
  {
   "cell_type": "code",
   "execution_count": 77,
   "metadata": {},
   "outputs": [
    {
     "data": {
      "text/html": [
       "<div>\n",
       "<style scoped>\n",
       "    .dataframe tbody tr th:only-of-type {\n",
       "        vertical-align: middle;\n",
       "    }\n",
       "\n",
       "    .dataframe tbody tr th {\n",
       "        vertical-align: top;\n",
       "    }\n",
       "\n",
       "    .dataframe thead th {\n",
       "        text-align: right;\n",
       "    }\n",
       "</style>\n",
       "<table border=\"1\" class=\"dataframe\">\n",
       "  <thead>\n",
       "    <tr style=\"text-align: right;\">\n",
       "      <th></th>\n",
       "      <th>Recency</th>\n",
       "      <th>Frequency</th>\n",
       "      <th>Monetary_Value</th>\n",
       "    </tr>\n",
       "    <tr>\n",
       "      <th>CustomerID</th>\n",
       "      <th></th>\n",
       "      <th></th>\n",
       "      <th></th>\n",
       "    </tr>\n",
       "  </thead>\n",
       "  <tbody>\n",
       "    <tr>\n",
       "      <td>2728046</td>\n",
       "      <td>160.0</td>\n",
       "      <td>8.142857</td>\n",
       "      <td>251.789474</td>\n",
       "    </tr>\n",
       "    <tr>\n",
       "      <td>2728088</td>\n",
       "      <td>720.0</td>\n",
       "      <td>17.000000</td>\n",
       "      <td>279.647059</td>\n",
       "    </tr>\n",
       "    <tr>\n",
       "      <td>2728089</td>\n",
       "      <td>15.0</td>\n",
       "      <td>6.600000</td>\n",
       "      <td>398.734848</td>\n",
       "    </tr>\n",
       "    <tr>\n",
       "      <td>2728095</td>\n",
       "      <td>177.0</td>\n",
       "      <td>9.000000</td>\n",
       "      <td>262.737374</td>\n",
       "    </tr>\n",
       "    <tr>\n",
       "      <td>2728107</td>\n",
       "      <td>115.0</td>\n",
       "      <td>5.250000</td>\n",
       "      <td>393.714286</td>\n",
       "    </tr>\n",
       "  </tbody>\n",
       "</table>\n",
       "</div>"
      ],
      "text/plain": [
       "            Recency  Frequency  Monetary_Value\n",
       "CustomerID                                    \n",
       "2728046       160.0   8.142857      251.789474\n",
       "2728088       720.0  17.000000      279.647059\n",
       "2728089        15.0   6.600000      398.734848\n",
       "2728095       177.0   9.000000      262.737374\n",
       "2728107       115.0   5.250000      393.714286"
      ]
     },
     "execution_count": 77,
     "metadata": {},
     "output_type": "execute_result"
    }
   ],
   "source": [
    "df_agg.head()"
   ]
  },
  {
   "cell_type": "code",
   "execution_count": 88,
   "metadata": {},
   "outputs": [],
   "source": [
    "df_all = pd.merge(left=df_date, right=df_agg, left_on='CustomerID', right_on='CustomerID')"
   ]
  },
  {
   "cell_type": "code",
   "execution_count": 92,
   "metadata": {},
   "outputs": [],
   "source": [
    "df_all = pd.merge(left=df_all, right=df_dem, left_on='CustomerID', right_on='CustomerId')\n",
    "df_all['Sex'] = 0 if 'Male' else 1\n",
    "df_all['Sex'] = df_all['Sex'].fillna(2)\n",
    "df_all['Age'] = df_all['Age'].fillna(df_all['Age'].mean())"
   ]
  },
  {
   "cell_type": "code",
   "execution_count": 93,
   "metadata": {},
   "outputs": [
    {
     "data": {
      "text/html": [
       "<div>\n",
       "<style scoped>\n",
       "    .dataframe tbody tr th:only-of-type {\n",
       "        vertical-align: middle;\n",
       "    }\n",
       "\n",
       "    .dataframe tbody tr th {\n",
       "        vertical-align: top;\n",
       "    }\n",
       "\n",
       "    .dataframe thead th {\n",
       "        text-align: right;\n",
       "    }\n",
       "</style>\n",
       "<table border=\"1\" class=\"dataframe\">\n",
       "  <thead>\n",
       "    <tr style=\"text-align: right;\">\n",
       "      <th></th>\n",
       "      <th>Y</th>\n",
       "      <th>Recency</th>\n",
       "      <th>Frequency</th>\n",
       "      <th>Monetary_Value</th>\n",
       "      <th>DayOfWeek</th>\n",
       "      <th>Region</th>\n",
       "      <th>CustomerId</th>\n",
       "      <th>ActivationDate</th>\n",
       "      <th>Age</th>\n",
       "      <th>Sex</th>\n",
       "      <th>SubscribedEmail</th>\n",
       "      <th>SubscribedPush</th>\n",
       "    </tr>\n",
       "  </thead>\n",
       "  <tbody>\n",
       "    <tr>\n",
       "      <td>0</td>\n",
       "      <td>False</td>\n",
       "      <td>160.0</td>\n",
       "      <td>8.142857</td>\n",
       "      <td>251.789474</td>\n",
       "      <td>3.0</td>\n",
       "      <td>1.0</td>\n",
       "      <td>2728046</td>\n",
       "      <td>2015-01-01</td>\n",
       "      <td>24.0</td>\n",
       "      <td>0</td>\n",
       "      <td>False</td>\n",
       "      <td>True</td>\n",
       "    </tr>\n",
       "    <tr>\n",
       "      <td>1</td>\n",
       "      <td>False</td>\n",
       "      <td>720.0</td>\n",
       "      <td>17.000000</td>\n",
       "      <td>279.647059</td>\n",
       "      <td>3.0</td>\n",
       "      <td>1.0</td>\n",
       "      <td>2728088</td>\n",
       "      <td>2015-01-01</td>\n",
       "      <td>46.0</td>\n",
       "      <td>0</td>\n",
       "      <td>True</td>\n",
       "      <td>True</td>\n",
       "    </tr>\n",
       "    <tr>\n",
       "      <td>2</td>\n",
       "      <td>True</td>\n",
       "      <td>15.0</td>\n",
       "      <td>6.600000</td>\n",
       "      <td>398.734848</td>\n",
       "      <td>3.0</td>\n",
       "      <td>1.0</td>\n",
       "      <td>2728089</td>\n",
       "      <td>2015-01-01</td>\n",
       "      <td>27.0</td>\n",
       "      <td>0</td>\n",
       "      <td>True</td>\n",
       "      <td>True</td>\n",
       "    </tr>\n",
       "    <tr>\n",
       "      <td>3</td>\n",
       "      <td>False</td>\n",
       "      <td>177.0</td>\n",
       "      <td>9.000000</td>\n",
       "      <td>262.737374</td>\n",
       "      <td>3.0</td>\n",
       "      <td>1.0</td>\n",
       "      <td>2728095</td>\n",
       "      <td>2015-01-01</td>\n",
       "      <td>54.0</td>\n",
       "      <td>0</td>\n",
       "      <td>True</td>\n",
       "      <td>True</td>\n",
       "    </tr>\n",
       "    <tr>\n",
       "      <td>4</td>\n",
       "      <td>True</td>\n",
       "      <td>115.0</td>\n",
       "      <td>5.250000</td>\n",
       "      <td>393.714286</td>\n",
       "      <td>3.0</td>\n",
       "      <td>1.0</td>\n",
       "      <td>2728107</td>\n",
       "      <td>2015-01-01</td>\n",
       "      <td>48.0</td>\n",
       "      <td>0</td>\n",
       "      <td>False</td>\n",
       "      <td>False</td>\n",
       "    </tr>\n",
       "  </tbody>\n",
       "</table>\n",
       "</div>"
      ],
      "text/plain": [
       "       Y  Recency  Frequency  Monetary_Value  DayOfWeek  Region  CustomerId  \\\n",
       "0  False    160.0   8.142857      251.789474        3.0     1.0     2728046   \n",
       "1  False    720.0  17.000000      279.647059        3.0     1.0     2728088   \n",
       "2   True     15.0   6.600000      398.734848        3.0     1.0     2728089   \n",
       "3  False    177.0   9.000000      262.737374        3.0     1.0     2728095   \n",
       "4   True    115.0   5.250000      393.714286        3.0     1.0     2728107   \n",
       "\n",
       "  ActivationDate   Age  Sex  SubscribedEmail  SubscribedPush  \n",
       "0     2015-01-01  24.0    0            False            True  \n",
       "1     2015-01-01  46.0    0             True            True  \n",
       "2     2015-01-01  27.0    0             True            True  \n",
       "3     2015-01-01  54.0    0             True            True  \n",
       "4     2015-01-01  48.0    0            False           False  "
      ]
     },
     "execution_count": 93,
     "metadata": {},
     "output_type": "execute_result"
    }
   ],
   "source": [
    "df_all.head()"
   ]
  },
  {
   "cell_type": "code",
   "execution_count": 95,
   "metadata": {},
   "outputs": [],
   "source": [
    "X = df_all[['Recency', 'Frequency', 'Monetary_Value', 'DayOfWeek', 'Region', 'Age', 'Sex']]\n",
    "y = df_all['Y']"
   ]
  },
  {
   "cell_type": "code",
   "execution_count": 96,
   "metadata": {},
   "outputs": [
    {
     "name": "stderr",
     "output_type": "stream",
     "text": [
      "C:\\Users\\Tuccc\\Anaconda3\\lib\\site-packages\\sklearn\\linear_model\\logistic.py:432: FutureWarning: Default solver will be changed to 'lbfgs' in 0.22. Specify a solver to silence this warning.\n",
      "  FutureWarning)\n"
     ]
    }
   ],
   "source": [
    "from sklearn.model_selection import train_test_split\n",
    "from sklearn.linear_model import LogisticRegression\n",
    "\n",
    "X_train, X_test, y_train, y_test = train_test_split(X, y, test_size=0.2)\n",
    "reg = LogisticRegression()\n",
    "reg.fit(X_train, y_train)\n",
    "y_pred = reg.predict(X_test)"
   ]
  },
  {
   "cell_type": "code",
   "execution_count": 97,
   "metadata": {},
   "outputs": [
    {
     "name": "stdout",
     "output_type": "stream",
     "text": [
      "Score:  0.7379275653923542\n",
      "Precision:  0.8099352051835853\n",
      "Recall:  0.684931506849315\n"
     ]
    }
   ],
   "source": [
    "from sklearn.metrics import recall_score, precision_score\n",
    "\n",
    "print('Score: ', reg.score(X_test, y_test))\n",
    "print('Precision: ', precision_score(y_pred, y_test))\n",
    "print('Recall: ', recall_score(y_pred, y_test))"
   ]
  },
  {
   "cell_type": "code",
   "execution_count": null,
   "metadata": {},
   "outputs": [],
   "source": []
  }
 ],
 "metadata": {
  "kernelspec": {
   "display_name": "Python 3",
   "language": "python",
   "name": "python3"
  },
  "language_info": {
   "codemirror_mode": {
    "name": "ipython",
    "version": 3
   },
   "file_extension": ".py",
   "mimetype": "text/x-python",
   "name": "python",
   "nbconvert_exporter": "python",
   "pygments_lexer": "ipython3",
   "version": "3.7.4"
  }
 },
 "nbformat": 4,
 "nbformat_minor": 2
}
